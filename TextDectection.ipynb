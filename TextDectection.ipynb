{
 "cells": [
  {
   "cell_type": "markdown",
   "metadata": {},
   "source": [
    "# Image to String "
   ]
  },
  {
   "cell_type": "code",
   "execution_count": 24,
   "metadata": {},
   "outputs": [
    {
     "name": "stdout",
     "output_type": "stream",
     "text": [
      "(110, 425)\n",
      "ae\n"
     ]
    },
    {
     "data": {
      "text/plain": [
       "-1"
      ]
     },
     "execution_count": 24,
     "metadata": {},
     "output_type": "execute_result"
    }
   ],
   "source": [
    "import cv2\n",
    "import pytesseract\n",
    "import numpy as np\n",
    "from PIL import Image\n",
    "# import time\n",
    " \n",
    "pytesseract.pytesseract.tesseract_cmd = 'C:\\\\Program Files\\\\Tesseract-OCR\\\\tesseract.exe'\n",
    "path = 'C:\\\\Users\\\\201802050007\\\\Desktop\\\\ObjectDetection\\\\Text Detection\\\\Captcha\\\\2.png'\n",
    "\n",
    "def empty(a):\n",
    "    pass\n",
    "\n",
    "#Open gambar yg kita mau olah\n",
    "img = cv2.imread(path)\n",
    "img = cv2.cvtColor(img, cv2.COLOR_BGR2GRAY)\n",
    "# img = cv2.GaussianBlur(img,(7,7),1)\n",
    "# img = cv2.Canny(img,50,50)\n",
    "\n",
    "# img[np.where((img==[255,255,255]).all(axis=2))] = [0,255,255]\n",
    "\n",
    "\n",
    "#Resize image\n",
    "print(img.shape) #hasil dari shape adalah lebar/tinggi, panjang, tipe color BGR2RGB\n",
    "img = cv2.resize(img,(1200,700)) #resize image dengan panjang 500 dan tinggi/lebar 100\n",
    "\n",
    "ret, img = cv2.threshold(img, 50, 255, cv2.THRESH_BINARY_INV)\n",
    "\n",
    "\n",
    "# # #Processing image\n",
    "# # k = np.array(np.zeros((3,3),np.float32))\n",
    "# k = np.array(([-1,0,0],\n",
    "#               [0,4,0],\n",
    "#               [0,0,-1],),np.float32)\n",
    "# img = cv2.filter2D(img,-1,k)\n",
    "\n",
    "# smoothing the image\n",
    "img = cv2.medianBlur(img, 5)\n",
    "#edge detection    \n",
    "img = cv2.Canny(img, 100, 200)\n",
    "\n",
    "# #men set filter HSV untuk mendapatkan setting warna hitam\n",
    "# cv2.namedWindow(\"TrackBars\")\n",
    "# cv2.resizeWindow(\"TrackBars\",640,240)\n",
    "# cv2.createTrackbar(\"Hue Min\",\"TrackBars\",0,179,empty)\n",
    "# cv2.createTrackbar(\"Hue Max\",\"TrackBars\",19,179,empty)\n",
    "# cv2.createTrackbar(\"Sat Min\",\"TrackBars\",110,255,empty)\n",
    "# cv2.createTrackbar(\"Sat Max\",\"TrackBars\",240,255,empty)\n",
    "# cv2.createTrackbar(\"Val Min\",\"TrackBars\",153,255,empty)\n",
    "# cv2.createTrackbar(\"Val Max\",\"TrackBars\",255,255,empty)\n",
    " \n",
    "# while True:\n",
    "#     img = cv2.imread(path)\n",
    "#     imgHSV = cv2.cvtColor(img,cv2.COLOR_BGR2HSV)\n",
    "#     h_min = cv2.getTrackbarPos(\"Hue Min\",\"TrackBars\")\n",
    "#     h_max = cv2.getTrackbarPos(\"Hue Max\", \"TrackBars\")\n",
    "#     s_min = cv2.getTrackbarPos(\"Sat Min\", \"TrackBars\")\n",
    "#     s_max = cv2.getTrackbarPos(\"Sat Max\", \"TrackBars\")\n",
    "#     v_min = cv2.getTrackbarPos(\"Val Min\", \"TrackBars\")\n",
    "#     v_max = cv2.getTrackbarPos(\"Val Max\", \"TrackBars\")\n",
    "#     print(h_min,h_max,s_min,s_max,v_min,v_max)\n",
    "#     lower = np.array([h_min,s_min,v_min])\n",
    "#     upper = np.array([h_max,s_max,v_max])\n",
    "#     mask = cv2.inRange(imgHSV,lower,upper)\n",
    "#     img = cv2.bitwise_and(img,img,mask=mask)\n",
    "\n",
    "# img = cv2.cvtColor(img,cv2.COLOR_BGR2HSV)\n",
    "# lower = np.array([0,0,0])\n",
    "# upper = np.array([255,255,255])\n",
    "# mask = cv2.inRange(img,lower,upper)\n",
    "# img = cv2.bitwise_and(img,img,mask=mask)\n",
    "\n",
    "# # smoothing the image\n",
    "# img = cv2.medianBlur(img, 5)\n",
    "# # img = cv2.GaussianBlur(img, (7,7),3)\n",
    "# #edge detection    \n",
    "# img = cv2.Canny(img, 100, 300)\n",
    "\n",
    "cv2.imwrite('img_2.png',img)\n",
    "#print hasil text detection ke string\n",
    "# configuration = '--tessdata-dir \"C:/Program Files/Tesseract-OCR/tessdata\" --oem 3 --psm 13'\n",
    "Text2String = pytesseract.image_to_string(img)\n",
    "# Text2String = Text2String.replace(' ','')\n",
    "print(Text2String)\n",
    "\n",
    "#tampilkan img\n",
    "cv2.imshow('Gambar Captcha', img)\n",
    "cv2.waitKey(0)"
   ]
  },
  {
   "cell_type": "code",
   "execution_count": 18,
   "metadata": {},
   "outputs": [
    {
     "data": {
      "text/plain": [
       "<matplotlib.image.AxesImage at 0x21a2a91f908>"
      ]
     },
     "execution_count": 18,
     "metadata": {},
     "output_type": "execute_result"
    },
    {
     "data": {
      "image/png": "[encoded data removed]",
      "text/plain": [
       "<Figure size 432x288 with 1 Axes>"
      ]
     },
     "metadata": {
      "needs_background": "light"
     },
     "output_type": "display_data"
    }
   ],
   "source": [
    "import matplotlib.pyplot as plt\n",
    "%matplotlib inline\n",
    "\n",
    "img = cv2.imread(path)\n",
    "#make image gray \n",
    "gray = cv2.cvtColor(img,cv2.COLOR_BGR2GRAY)\n",
    "\n",
    "#Blur\n",
    "blur = cv2.GaussianBlur(gray,(5,5),0)\n",
    "bilateral = cv2.bilateralFilter(gray,5,75,75)\n",
    "\n",
    "#Thresholding\n",
    "ret, thresh = cv2.threshold(bilateral,25,255,cv2.THRESH_BINARY_INV+cv2.THRESH_OTSU)\n",
    "\n",
    "#Kernal\n",
    "kernel = cv2.getStructuringElement(cv2.MORPH_RECT, (3, 3))\n",
    "\n",
    "#other things\n",
    "erosion = cv2.erode(thresh,kernel,iterations = 1)\n",
    "closing = cv2.morphologyEx(erosion, cv2.MORPH_CLOSE, kernel, iterations = 1)\n",
    "\n",
    "#Transform image\n",
    "dist_transform = cv2.distanceTransform(closing,cv2.DIST_L2,5)\n",
    "ret, sure_fg = cv2.threshold(dist_transform,0.02*dist_transform.max(),255,cv2.THRESH_BINARY)#,255,0)\n",
    "\n",
    "#kernel_1\n",
    "kernel_1 = cv2.getStructuringElement(cv2.MORPH_ELLIPSE, (1, 2))\n",
    "\n",
    "dilation_1 = cv2.dilate(sure_fg,kernel_1,iterations = 2)\n",
    "erosion_1 = cv2.erode(dilation_1,kernel_1,iterations = 3)\n",
    "\n",
    "plt.imshow(erosion_1, 'gray')"
   ]
  },
  {
   "cell_type": "code",
   "execution_count": null,
   "metadata": {},
   "outputs": [],
   "source": [
    "img = cv2.imread(path)\n",
    "img = cv2.fastNlMeansDenoisingColored(img,None,10,10,7,21)\n",
    "\n",
    "#print hasil text detection ke string\n",
    "# configuration = '--tessdata-dir \"C:/Program Files/Tesseract-OCR/tessdata\" --oem 3 --psm 13'\n",
    "Text2String = pytesseract.image_to_string(img)\n",
    "# Text2String = Text2String.replace(' ','')\n",
    "print(Text2String)\n",
    "\n",
    "#tampilkan img\n",
    "cv2.imshow('Gambar Captcha', img)\n",
    "cv2.waitKey(0)"
   ]
  },
  {
   "cell_type": "markdown",
   "metadata": {},
   "source": [
    "# Detect Character"
   ]
  },
  {
   "cell_type": "code",
   "execution_count": 22,
   "metadata": {
    "scrolled": true
   },
   "outputs": [
    {
     "name": "stdout",
     "output_type": "stream",
     "text": [
      "[[[0 0 0]\n",
      "  [0 0 0]\n",
      "  [0 0 0]\n",
      "  ...\n",
      "  [0 0 0]\n",
      "  [0 0 0]\n",
      "  [0 0 0]]\n",
      "\n",
      " [[0 0 0]\n",
      "  [0 0 0]\n",
      "  [0 0 0]\n",
      "  ...\n",
      "  [0 0 0]\n",
      "  [0 0 0]\n",
      "  [0 0 0]]\n",
      "\n",
      " [[0 0 0]\n",
      "  [0 0 0]\n",
      "  [0 0 0]\n",
      "  ...\n",
      "  [0 0 0]\n",
      "  [0 0 0]\n",
      "  [0 0 0]]\n",
      "\n",
      " ...\n",
      "\n",
      " [[0 0 0]\n",
      "  [0 0 0]\n",
      "  [0 0 0]\n",
      "  ...\n",
      "  [0 0 0]\n",
      "  [0 0 0]\n",
      "  [0 0 0]]\n",
      "\n",
      " [[0 0 0]\n",
      "  [0 0 0]\n",
      "  [0 0 0]\n",
      "  ...\n",
      "  [0 0 0]\n",
      "  [0 0 0]\n",
      "  [0 0 0]]\n",
      "\n",
      " [[0 0 0]\n",
      "  [0 0 0]\n",
      "  [0 0 0]\n",
      "  ...\n",
      "  [0 0 0]\n",
      "  [0 0 0]\n",
      "  [0 0 0]]]\n"
     ]
    },
    {
     "data": {
      "text/plain": [
       "-1"
      ]
     },
     "execution_count": 22,
     "metadata": {},
     "output_type": "execute_result"
    }
   ],
   "source": [
    "import cv2\n",
    "import pytesseract\n",
    " \n",
    "pytesseract.pytesseract.tesseract_cmd = 'C:\\\\Program Files\\\\Tesseract-OCR\\\\tesseract.exe'\n",
    " \n",
    "img = cv2.imread('1.png')\n",
    "img = cv2.cvtColor(img, cv2.COLOR_BGR2RGB)\n",
    " \n",
    "hImg, wImg,_ = img.shape\n",
    "configuration = r'--oem 3 --psm 6 ouputbase digits'\n",
    "boxes = pytesseract.image_to_boxes(img,config=configu)\n",
    "for b in boxes.splitlines():\n",
    "    print(b)\n",
    "    b = b.split(' ')\n",
    "    print(b)\n",
    "    x, y, w, h = int(b[1]), int(b[2]), int(b[3]), int(b[4])\n",
    "    cv2.rectangle(img, (x,hImg- y), (w,hImg- h), (50, 50, 255), 2)\n",
    "    cv2.putText(img,b[0],(x,hImg- y+25),cv2.FONT_HERSHEY_SIMPLEX,1,(50,50,255),2)\n",
    "\n",
    "cv2.imshow('img', img)\n",
    "cv2.waitKey(0)"
   ]
  },
  {
   "cell_type": "markdown",
   "metadata": {},
   "source": [
    "# Detect Word"
   ]
  },
  {
   "cell_type": "code",
   "execution_count": 1,
   "metadata": {},
   "outputs": [
    {
     "name": "stdout",
     "output_type": "stream",
     "text": [
      "level\tpage_num\tblock_num\tpar_num\tline_num\tword_num\tleft\ttop\twidth\theight\tconf\ttext\n",
      "1\t1\t0\t0\t0\t0\t0\t0\t779\t380\t-1\t\n",
      "2\t1\t1\t0\t0\t0\t68\t85\t637\t123\t-1\t\n",
      "3\t1\t1\t1\t0\t0\t68\t85\t637\t123\t-1\t\n",
      "4\t1\t1\t1\t1\t0\t68\t85\t637\t67\t-1\t\n",
      "5\t1\t1\t1\t1\t1\t68\t85\t299\t54\t91\tMurtaza's\n",
      "5\t1\t1\t1\t1\t2\t389\t86\t316\t66\t96\tWorkshop\n",
      "4\t1\t1\t1\t2\t0\t220\t172\t272\t36\t-1\t\n",
      "5\t1\t1\t1\t2\t1\t220\t172\t174\t36\t93\tRobotics\n",
      "5\t1\t1\t1\t2\t2\t410\t172\t30\t36\t93\t&\n",
      "5\t1\t1\t1\t2\t3\t454\t175\t38\t32\t97\tAl\n",
      "2\t1\t2\t0\t0\t0\t42\t276\t686\t34\t-1\t\n",
      "3\t1\t2\t1\t0\t0\t42\t276\t686\t34\t-1\t\n",
      "4\t1\t2\t1\t1\t0\t42\t276\t686\t34\t-1\t\n",
      "5\t1\t2\t1\t1\t1\t42\t276\t686\t34\t91\t123456789101112131415\n"
     ]
    },
    {
     "data": {
      "text/plain": [
       "-1"
      ]
     },
     "execution_count": 1,
     "metadata": {},
     "output_type": "execute_result"
    }
   ],
   "source": [
    "import cv2\n",
    "import pytesseract\n",
    " \n",
    "pytesseract.pytesseract.tesseract_cmd = 'C:\\\\Program Files\\\\Tesseract-OCR\\\\tesseract.exe'\n",
    " \n",
    "img = cv2.imread('test.png')\n",
    "img = cv2.cvtColor(img, cv2.COLOR_BGR2RGB)\n",
    " \n",
    "#[   0          1           2           3           4          5         6       7       8        9        10       11 ]\n",
    "#['level', 'page_num', 'block_num', 'par_num', 'line_num', 'word_num', 'left', 'top', 'width', 'height', 'conf', 'text']\n",
    "boxes = pytesseract.image_to_data(img)\n",
    "for a,b in enumerate(boxes.splitlines()):\n",
    "        print(b)\n",
    "        if a!=0:\n",
    "            b = b.split()\n",
    "            if len(b)==12:\n",
    "                x,y,w,h = int(b[6]),int(b[7]),int(b[8]),int(b[9])\n",
    "                cv2.putText(img,b[11],(x,y-5),cv2.FONT_HERSHEY_SIMPLEX,1,(50,50,255),2)\n",
    "                cv2.rectangle(img, (x,y), (x+w, y+h), (50, 50, 255), 2)\n",
    "\n",
    "cv2.imshow('img', img)\n",
    "cv2.waitKey(0)"
   ]
  },
  {
   "cell_type": "code",
   "execution_count": null,
   "metadata": {},
   "outputs": [],
   "source": []
  }
 ],
 "metadata": {
  "kernelspec": {
   "display_name": "Python 3",
   "language": "python",
   "name": "python3"
  },
  "language_info": {
   "codemirror_mode": {
    "name": "ipython",
    "version": 3
   },
   "file_extension": ".py",
   "mimetype": "text/x-python",
   "name": "python",
   "nbconvert_exporter": "python",
   "pygments_lexer": "ipython3",
   "version": "3.6.6"
  }
 },
 "nbformat": 4,
 "nbformat_minor": 2
}
